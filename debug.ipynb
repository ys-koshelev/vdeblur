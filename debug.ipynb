{
 "cells": [
  {
   "cell_type": "code",
   "execution_count": 1,
   "metadata": {},
   "outputs": [
    {
     "name": "stderr",
     "output_type": "stream",
     "text": [
      "/Volumes/Home/ys_koshelev/anaconda3/lib/python3.6/site-packages/h5py/__init__.py:36: FutureWarning: Conversion of the second argument of issubdtype from `float` to `np.floating` is deprecated. In future, it will be treated as `np.float64 == np.dtype(float).type`.\n",
      "  from ._conv import register_converters as _register_converters\n"
     ]
    }
   ],
   "source": [
    "import numpy as np\n",
    "import torch\n",
    "import torchvision\n",
    "import torch.nn as nn\n",
    "import torch.nn.functional as F\n",
    "import tensorflow as tf\n",
    "from Ctorch import *\n",
    "from functions import *\n",
    "import matplotlib.pyplot as plt\n",
    "from scipy import fftpack\n",
    "from scipy.signal import fftconvolve\n",
    "from skimage import io\n",
    "%matplotlib inline"
   ]
  },
  {
   "cell_type": "code",
   "execution_count": 2,
   "metadata": {},
   "outputs": [],
   "source": [
    "a = io.imread('data/example2.png');\n",
    "a_torch = torch.FloatTensor(a).unsqueeze(0).unsqueeze(0);\n",
    "k = np.loadtxt('data/example2.dlm');\n",
    "k_torch = torch.FloatTensor(k).unsqueeze(0).unsqueeze(0);"
   ]
  },
  {
   "cell_type": "code",
   "execution_count": 14,
   "metadata": {},
   "outputs": [
    {
     "data": {
      "text/plain": [
       "torch.Size([1, 3, 700, 924])"
      ]
     },
     "execution_count": 14,
     "metadata": {},
     "output_type": "execute_result"
    }
   ],
   "source": [
    "a_torch = a_torch.squeeze(1).permute(0,3,1,2);\n",
    "a_torch.shape"
   ]
  },
  {
   "cell_type": "markdown",
   "metadata": {},
   "source": [
    "# Standard data type: batches of shape NxCxHxWx2"
   ]
  },
  {
   "cell_type": "code",
   "execution_count": 52,
   "metadata": {},
   "outputs": [],
   "source": [
    "def wrap_boundary_liu(img, img_size):\n",
    "\n",
    "    \"\"\"\n",
    "    Reducing boundary artifacts in image deconvolution\n",
    "    Renting Liu, Jiaya Jia\n",
    "    ICIP 2008\n",
    "    \"\"\"\n",
    "    (H,W) = np.shape(img);\n",
    "    H_w = img_size[0] - H;\n",
    "    W_w = img_size[1] - W;\n",
    "\n",
    "    #ret = np.zeros((img_size[0], img_size[1]));\n",
    "    alpha = 1;\n",
    "    HG = img[:,:];\n",
    "\n",
    "    r_A = np.zeros((alpha*2+H_w,W));\n",
    "    r_A[:alpha,:] = HG[-alpha:,:];\n",
    "    r_A[-alpha:,:] = HG[:alpha,:];\n",
    "    a = np.arange(H_w)/(H_w-1);\n",
    "    #r_A(alpha+1:end-alpha, 1) = (1-a)*r_A(alpha,1) + a*r_A(end-alpha+1,1);\n",
    "    r_A[alpha:-alpha,0] = (1-a)*r_A[alpha-1,0] + a*r_A[-alpha,0];\n",
    "    #r_A(alpha+1:end-alpha, end) = (1-a)*r_A(alpha,end) + a*r_A(end-alpha+1,end);\n",
    "    r_A[alpha:-alpha, -1] = (1-a)*r_A[alpha-1,-1] + a*r_A[-alpha,-1];\n",
    "    \n",
    "    r_B = np.zeros((H, alpha*2+W_w));\n",
    "    r_B[:, :alpha] = HG[:, -alpha:];\n",
    "    r_B[:, -alpha:] = HG[:, :alpha];\n",
    "    a = np.arange(W_w)/(W_w-1);\n",
    "    r_B[0, alpha:-alpha] = (1-a)*r_B[0,alpha-1] + a*r_B[0,-alpha];\n",
    "    r_B[-1, alpha:-alpha] = (1-a)*r_B[-1,alpha-1] + a*r_B[-1,-alpha];\n",
    "    \n",
    "    if alpha == 1:\n",
    "        A2 = solve_min_laplacian(r_A[alpha-1:,:]);\n",
    "        B2 = solve_min_laplacian(r_B[:,alpha-1:]);\n",
    "        r_A[alpha-1:,:] = A2;\n",
    "        r_B[:,alpha-1:] = B2;\n",
    "    else:\n",
    "        A2 = solve_min_laplacian(r_A[alpha-1:-alpha+1,:]);\n",
    "        r_A[alpha-1:-alpha+1,:] = A2;\n",
    "        B2 = solve_min_laplacian(r_B[:,alpha-1:-alpha+1]);\n",
    "        r_B[:,alpha-1:-alpha+1] = B2;\n",
    "    A = r_A;\n",
    "    B = r_B;\n",
    "\n",
    "    r_C = np.zeros((alpha*2+H_w, alpha*2+W_w));\n",
    "    r_C[:alpha, :] = B[-alpha:, :];\n",
    "    r_C[-alpha:, :] = B[:alpha, :];\n",
    "    r_C[:, :alpha] = A[:, -alpha:];\n",
    "    r_C[:, -alpha:] = A[:, :alpha];\n",
    "\n",
    "    if alpha == 1:\n",
    "        C2 = C2 = solve_min_laplacian(r_C[alpha-1:, alpha-1:]);\n",
    "        r_C[alpha-1:, alpha-1:] = C2;\n",
    "    else:\n",
    "        C2 = solve_min_laplacian(r_C[alpha-1:-alpha+1, alpha-1:-alpha+1]);\n",
    "        r_C[alpha-1:-alpha+1, alpha-1:-alpha+1] = C2;\n",
    "    C = r_C;\n",
    "    #return C;\n",
    "    A = A[alpha-1:-alpha-1, :];\n",
    "    B = B[:, alpha:-alpha];\n",
    "    C = C[alpha:-alpha, alpha:-alpha];\n",
    "    ret = np.vstack((np.hstack((img,B)),np.hstack((A,C))));\n",
    "    return ret;\n",
    "\n",
    "def solve_min_laplacian(boundary_image):\n",
    "    (H,W) = np.shape(boundary_image);\n",
    "\n",
    "    # Laplacian\n",
    "    f = np.zeros((H,W));\n",
    "    # boundary image contains image intensities at boundaries\n",
    "    boundary_image[1:-1, 1:-1] = 0;\n",
    "    j = np.arange(2,H)-1;      \n",
    "    k = np.arange(2,W)-1;      \n",
    "    f_bp = np.zeros((H,W));\n",
    "    f_bp[np.ix_(j,k)] = -4*boundary_image[np.ix_(j,k)] + boundary_image[np.ix_(j,k+1)] + boundary_image[np.ix_(j,k-1)] + boundary_image[np.ix_(j-1,k)] + boundary_image[np.ix_(j+1,k)];\n",
    "    \n",
    "    del(j,k);\n",
    "    f1 = f - f_bp; # subtract boundary points contribution\n",
    "    del(f_bp,f);\n",
    "\n",
    "    # DST Sine Transform algo starts here\n",
    "    f2 = f1[1:-1,1:-1];\n",
    "    del(f1);\n",
    "\n",
    "    # compute sine tranform\n",
    "    if f2.shape[1] == 1:\n",
    "        tt = fftpack.dst(f2,type=1,axis=0)/2;\n",
    "    else:\n",
    "        tt = fftpack.dst(f2,type=1)/2;\n",
    "    \n",
    "    if tt.shape[0] == 1:\n",
    "        f2sin = np.transpose(fftpack.dst(np.transpose(tt),type=1,axis=0)/2);\n",
    "    else:\n",
    "        f2sin = np.transpose(fftpack.dst(np.transpose(tt),type=1)/2);      \n",
    "    del(f2)\n",
    "\n",
    "    # compute Eigen Values\n",
    "    [x,y] = np.meshgrid(np.arange(1,W-1), np.arange(1,H-1));\n",
    "    denom = (2*np.cos(np.pi*x/(W-1))-2) + (2*np.cos(np.pi*y/(H-1)) - 2);\n",
    "    \n",
    "    # divide\n",
    "    f3 = f2sin/denom;                          \n",
    "    del(f2sin, x, y);\n",
    "\n",
    "    # compute Inverse Sine Transform\n",
    "    if f3.shape[0] == 1:\n",
    "        tt = fftpack.idst(f3*2,type=1,axis=1)/(2*(f3.shape[1]+1));\n",
    "    else:\n",
    "        tt = fftpack.idst(f3*2,type=1,axis=0)/(2*(f3.shape[0]+1));\n",
    "    del(f3);       \n",
    "    if tt.shape[1] == 1:\n",
    "        img_tt = np.transpose(fftpack.idst(np.transpose(tt)*2,type=1)/(2*(tt.shape[0]+1)));\n",
    "    else:\n",
    "        img_tt = np.transpose(fftpack.idst(np.transpose(tt)*2,type=1,axis=0)/(2*(tt.shape[1]+1)));\n",
    "    del(tt);\n",
    "\n",
    "    # put solution in inner points; outer points obtained from boundary image\n",
    "    img_direct = boundary_image;\n",
    "    img_direct[1:-1,1:-1] = 0;\n",
    "    img_direct[1:-1,1:-1] = img_tt;\n",
    "    return img_direct;"
   ]
  },
  {
   "cell_type": "code",
   "execution_count": 3,
   "metadata": {},
   "outputs": [],
   "source": [
    "def pad_for_kernel(img,kernel,mode):\n",
    "    p = [(d-1)//2 for d in kernel.shape]\n",
    "    padding = [p,p] + (img.ndim-2)*[(0,0)]\n",
    "    return np.pad(img, padding, mode)\n",
    "\n",
    "def crop_for_kernel(img,kernel):\n",
    "    p = [(d-1)//2 for d in kernel.shape]\n",
    "    r = [slice(p[0],-p[0]),slice(p[1],-p[1])] + (img.ndim-2)*[slice(None)]\n",
    "    return img[r]\n",
    "\n",
    "def edgetaper_alpha(kernel,img_shape):\n",
    "    v = []\n",
    "    for i in range(2):\n",
    "        z = np.fft.fft(np.sum(kernel,1-i),img_shape[i]-1)\n",
    "        z = np.real(np.fft.ifft(np.square(np.abs(z)))).astype(np.float32)\n",
    "        z = np.concatenate([z,z[0:1]],0)\n",
    "        v.append(1 - z/np.max(z))\n",
    "    return np.outer(*v)\n",
    "\n",
    "def edgetaper(img,kernel,n_tapers=3):\n",
    "    alpha = edgetaper_alpha(kernel, img.shape[0:2])\n",
    "    _kernel = kernel\n",
    "    if 3 == img.ndim:\n",
    "        kernel = kernel[...,np.newaxis]\n",
    "        alpha  = alpha[...,np.newaxis]\n",
    "    for i in range(n_tapers):\n",
    "        blurred = fftconvolve(pad_for_kernel(img,_kernel,'wrap'),kernel,mode='valid')\n",
    "        img = alpha*img + (1-alpha)*blurred\n",
    "    return img"
   ]
  },
  {
   "cell_type": "code",
   "execution_count": 21,
   "metadata": {},
   "outputs": [],
   "source": [
    "def pad_for_kernel_torch(imgs,kernels):\n",
    "    shape = kernels.shape;\n",
    "    p_h = (shape[-2]-1)//2;\n",
    "    p_w = (shape[-1]-1)//2;\n",
    "    return nn.ReplicationPad2d((p_h,p_h,p_w,p_w))(imgs);\n",
    "\n",
    "def pad_for_kernel_circ_torch(imgs,kernels):\n",
    "    shape = kernels.shape;\n",
    "    p_h = (shape[-2]-1)//2;\n",
    "    p_w = (shape[-1]-1)//2;\n",
    "    \n",
    "    i_shape = list(imgs.shape);\n",
    "    i_shape[2] = i_shape[2] + 2*p_h;\n",
    "    i_shape[3] = i_shape[3] + 2*p_w;\n",
    "    ret = imgs.new(*i_shape);\n",
    "    \n",
    "    ret[:,:,p_h:-p_h,p_w:-p_w] = imgs[:,:,:,:];\n",
    "    \n",
    "    ret[:,:,:p_h,p_w:-p_w] = imgs[:,:,-p_h:,:];\n",
    "    ret[:,:,-p_h:,p_w:-p_w] = imgs[:,:,:p_h,:];\n",
    "    \n",
    "    ret[:,:,p_h:-p_h,:p_w] = imgs[:,:,:,-p_w:];\n",
    "    ret[:,:,p_h:-p_h,-p_w:] = imgs[:,:,:,:p_w];\n",
    "    \n",
    "    ret[:,:,:p_h,:p_w] = imgs[:,:,-p_h:,-p_w:];\n",
    "    ret[:,:,:p_h,-p_w:] = imgs[:,:,-p_h:,:p_w];\n",
    "    ret[:,:,-p_h:,:p_w] = imgs[:,:,:p_h,-p_w:];\n",
    "    ret[:,:,-p_h:,-p_w:] = imgs[:,:,:p_h,:p_w];\n",
    "    return ret;\n",
    "\n",
    "'''\n",
    "def pad_for_kernel_circ_torch(imgs,kernels):\n",
    "    shape = kernels.shape;\n",
    "    i_shape = imgs.shape;\n",
    "    \n",
    "    p_h = (shape[-2]-1)//2;\n",
    "    p_w = (shape[-1]-1)//2;\n",
    "    \n",
    "    return imgs.repeat(1,1,3,3)[:,:,(i_shape[-2]-1-p_h):(2*i_shape[-2]-1+p_h),(i_shape[-1]-1-p_w):(2*i_shape[-1]-1+p_w)];\n",
    "'''\n",
    "\n",
    "def crop_for_kernel_torch(imgs,kernels):\n",
    "    k_shape = kernels.shape;\n",
    "    p_h = (k_shape[-2]-1)//2;\n",
    "    p_w = (k_shape[-1]-1)//2;\n",
    "    return imgs[:,:,slice(p_h,-p_h),slice(p_w,-p_w)];\n",
    "\n",
    "def edgetaper_alpha_torch(kernels,img_shape):\n",
    "    v = [];\n",
    "    for i in range(2):\n",
    "        s = torch.sum(kernels,dim=3-i);\n",
    "        z = torch.rfft(nn.ConstantPad1d((0,img_shape[i]-1-s.shape[-1]),0)(s),1,onesided=False);\n",
    "        z = torch.irfft(Cinit(real=Cabs(z)**2),1,onesided=False);\n",
    "        z = torch.cat((z,z[:,:,0:1]),2).squeeze(1);\n",
    "        v.append(1 - z/torch.max(z));\n",
    "    return torch.bmm(v[0].unsqueeze(2), v[1].unsqueeze(1)).unsqueeze(1);\n",
    "\n",
    "def flip_kernels(kernels):\n",
    "    return torch.flip(kernels,(3,2));\n",
    "\n",
    "def edgetaper_torch(imgs,kernels,n_tapers=3):\n",
    "    alphas = edgetaper_alpha_torch(kernels, imgs.shape[-2:]);\n",
    "    if imgs.shape[1] == 3:\n",
    "        a_shape_new = list(alphas.shape);\n",
    "        a_shape_new[1] == 3;\n",
    "        alphas  = alphas.expand(a_shape_new);\n",
    "    for i in range(n_tapers):\n",
    "        blurred = nn.functional.conv2d(pad_for_kernel_circ_torch(imgs,kernels).permute(1,0,2,3),\n",
    "                                       flip_kernels(kernels),groups=kernels.shape[0]).permute(1,0,2,3);\n",
    "        imgs = alphas*imgs + (1-alphas)*blurred;\n",
    "    return imgs;"
   ]
  },
  {
   "cell_type": "code",
   "execution_count": 27,
   "metadata": {},
   "outputs": [
    {
     "data": {
      "text/plain": [
       "<matplotlib.image.AxesImage at 0x1c2cc359b0>"
      ]
     },
     "execution_count": 27,
     "metadata": {},
     "output_type": "execute_result"
    },
    {
     "data": {
      "image/png": "[encoded data removed]",
      "text/plain": [
       "<Figure size 432x288 with 1 Axes>"
      ]
     },
     "metadata": {},
     "output_type": "display_data"
    }
   ],
   "source": [
    "plt.imshow(k)"
   ]
  },
  {
   "cell_type": "code",
   "execution_count": 16,
   "metadata": {},
   "outputs": [
    {
     "name": "stdout",
     "output_type": "stream",
     "text": [
      "2.38 ms ± 111 µs per loop (mean ± std. dev. of 7 runs, 100 loops each)\n"
     ]
    }
   ],
   "source": [
    "edgetaper_alpha_torch(k_torch,a_torch.shape[-2:]).sh"
   ]
  },
  {
   "cell_type": "code",
   "execution_count": 5,
   "metadata": {},
   "outputs": [
    {
     "name": "stdout",
     "output_type": "stream",
     "text": [
      "46 ms ± 1.96 ms per loop (mean ± std. dev. of 7 runs, 10 loops each)\n"
     ]
    }
   ],
   "source": [
    "%timeit tmp = edgetaper_torch(a_torch,k_torch,n_tapers=1);"
   ]
  },
  {
   "cell_type": "code",
   "execution_count": 6,
   "metadata": {},
   "outputs": [
    {
     "name": "stdout",
     "output_type": "stream",
     "text": [
      "7.22 ms ± 954 µs per loop (mean ± std. dev. of 7 runs, 1 loop each)\n"
     ]
    }
   ],
   "source": [
    "%timeit tmp2 = edgetaper(a,k,n_tapers=1);"
   ]
  },
  {
   "cell_type": "code",
   "execution_count": 26,
   "metadata": {},
   "outputs": [
    {
     "data": {
      "text/plain": [
       "torch.Size([1, 3, 700, 924])"
      ]
     },
     "execution_count": 26,
     "metadata": {},
     "output_type": "execute_result"
    }
   ],
   "source": []
  },
  {
   "cell_type": "code",
   "execution_count": 18,
   "metadata": {},
   "outputs": [
    {
     "name": "stdout",
     "output_type": "stream",
     "text": [
      "11.3 ms ± 329 µs per loop (mean ± std. dev. of 7 runs, 100 loops each)\n"
     ]
    }
   ],
   "source": [
    "%timeit pad_for_kernel_torch(a_torch,k_torch)"
   ]
  },
  {
   "cell_type": "code",
   "execution_count": 7,
   "metadata": {},
   "outputs": [
    {
     "data": {
      "text/plain": [
       "(273, 273)"
      ]
     },
     "execution_count": 7,
     "metadata": {},
     "output_type": "execute_result"
    }
   ],
   "source": [
    "edgetaper(pad_for_kernel(a,k,'edge'),k).shape"
   ]
  },
  {
   "cell_type": "code",
   "execution_count": 8,
   "metadata": {},
   "outputs": [
    {
     "data": {
      "text/plain": [
       "torch.Size([1, 1, 273, 273])"
      ]
     },
     "execution_count": 8,
     "metadata": {},
     "output_type": "execute_result"
    }
   ],
   "source": [
    "edgetaper_torch(pad_for_kernel_torch(a_torch,k_torch),k_torch).shape"
   ]
  },
  {
   "cell_type": "code",
   "execution_count": 11,
   "metadata": {},
   "outputs": [
    {
     "data": {
      "text/plain": [
       "<matplotlib.colorbar.Colorbar at 0x1c2d386978>"
      ]
     },
     "execution_count": 11,
     "metadata": {},
     "output_type": "execute_result"
    },
    {
     "data": {
      "image/png": "[encoded data removed]",
      "text/plain": [
       "<Figure size 432x288 with 2 Axes>"
      ]
     },
     "metadata": {},
     "output_type": "display_data"
    }
   ],
   "source": [
    "plt.imshow(torch.FloatTensor(edgetaper(pad_for_kernel(a,k,'edge'),k)) - edgetaper_torch(pad_for_kernel_torch(a_torch,k_torch),k_torch)[0,0,:,:])\n",
    "plt.colorbar()"
   ]
  },
  {
   "cell_type": "code",
   "execution_count": null,
   "metadata": {},
   "outputs": [],
   "source": []
  }
 ],
 "metadata": {
  "kernelspec": {
   "display_name": "Python 3",
   "language": "python",
   "name": "python3"
  },
  "language_info": {
   "codemirror_mode": {
    "name": "ipython",
    "version": 3
   },
   "file_extension": ".py",
   "mimetype": "text/x-python",
   "name": "python",
   "nbconvert_exporter": "python",
   "pygments_lexer": "ipython3",
   "version": "3.6.5"
  }
 },
 "nbformat": 4,
 "nbformat_minor": 2
}
